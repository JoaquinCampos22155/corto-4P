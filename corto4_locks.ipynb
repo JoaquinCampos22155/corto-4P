{
  "cells": [
    {
      "cell_type": "markdown",
      "metadata": {},
      "source": [
        "# Corto 4: Locks, Critical y Atomic en Paralelismo\n",
        "\n",
        "nombre: Joaquin Campos  \n",
        "\n",
        "Hoy vamos a practicar a manejar **condiciones de carrera** usando Python.\n",
        "\n",
        "Vamos a hacer referencia a cómo se hace lo mismo en **OpenMP (C)**.\n",
        "\n",
        "Objetivos:\n",
        "- Entender bien qué es una condición de carrera.\n",
        "- Proteger secciones críticas con *locks* (como `#pragma omp critical`).\n",
        "- Simular operaciones atómicas (como `#pragma omp atomic`).\n"
      ]
    },
    {
      "cell_type": "markdown",
      "metadata": {},
      "source": [
        "## 0. Cual es la diferencia entre un Thread y un Proceso?"
      ]
    },
    {
      "cell_type": "markdown",
      "metadata": {},
      "source": [
        "La diferencia es: \n",
        "\n",
        "Un proceso es como una aplicación completa que se está ejecutando (por ejemplo, abrir Word o un navegador).\n",
        "Un thread es como una tarea dentro de ese proceso (por ejemplo, cargar una página dentro del navegador).\n",
        "\n",
        "Un proceso tiene su propio espacio de trabajo.\n",
        "\n",
        "Los threads comparten ese espacio, y por eso son más ligeros y rápidos, pero también más propensos a errores si no se coordinan bien."
      ]
    },
    {
      "cell_type": "markdown",
      "metadata": {},
      "source": [
        "## 1. Ejemplo sin protección\n",
        "Este programa intenta que 5 hilos sumen 100000 cada uno a un contador compartido.\n",
        "\n",
        "Pregunta: Que esperamsp que ocurra y qué creés que va a pasar en la práctica?\n",
        "\n",
        "esperamos que el resultado final sea 500000, pero en la práctica seguramente como visto en clase número será mucho menor porque varios hilos están modificando al mismo tiempo el mismo número."
      ]
    },
    {
      "cell_type": "code",
      "execution_count": 33,
      "metadata": {},
      "outputs": [
        {
          "name": "stdout",
          "output_type": "stream",
          "text": [
            "Esperado: 500000\n",
            "Obtenido: 500000\n"
          ]
        }
      ],
      "source": [
        "import threading\n",
        "\n",
        "contador = 0\n",
        "\n",
        "def incrementar(n):\n",
        "    global contador\n",
        "    for _ in range(n):\n",
        "        contador += 1  # acceso inseguro\n",
        "\n",
        "hilos = []\n",
        "for _ in range(5):\n",
        "    t = threading.Thread(target=incrementar, args=(100000,))\n",
        "    hilos.append(t)\n",
        "    t.start()\n",
        "\n",
        "for t in hilos:\n",
        "    t.join()\n",
        "\n",
        "print(\"Esperado:\", 5 * 100000)\n",
        "print(\"Obtenido:\", contador)"
      ]
    },
    {
      "cell_type": "markdown",
      "metadata": {},
      "source": [
        "Se siguio opteniendo 500000, entonces podria ser por el ejemplo pequeño"
      ]
    },
    {
      "cell_type": "markdown",
      "metadata": {},
      "source": [
        "## 2. Usando Locks (`critical` en OpenMP)\n",
        "\n",
        "Con un lock evitamos que dos hilos entren al mismo tiempo a la sección crítica.\n",
        "\n",
        "Pregunta: Cómo cambian los resultados con este método?\n",
        "\n",
        "Ahora sí, cada hilo espera su turno para sumar, por lo tanto no se pisan entre ellos.\n",
        "\n",
        "Resultado esperado y obtenido coinciden:\n",
        "\n",
        "Esperado: 500000\n",
        "\n",
        "Obtenido: 500000 \n",
        "\n"
      ]
    },
    {
      "cell_type": "code",
      "execution_count": 34,
      "metadata": {},
      "outputs": [
        {
          "name": "stdout",
          "output_type": "stream",
          "text": [
            "Esperado: 500000\n",
            "Obtenido: 500000\n"
          ]
        }
      ],
      "source": [
        "import threading\n",
        "\n",
        "contador = 0\n",
        "lock = threading.Lock()\n",
        "\n",
        "def incrementar(n):\n",
        "    global contador\n",
        "    for _ in range(n):\n",
        "        with lock:  # sección crítica con un lock\n",
        "            contador += 1\n",
        "\n",
        "hilos = []\n",
        "for _ in range(5):\n",
        "    t = threading.Thread(target=incrementar, args=(100000,))\n",
        "    hilos.append(t)\n",
        "    t.start()\n",
        "\n",
        "for t in hilos:\n",
        "    t.join()\n",
        "\n",
        "print(\"Esperado:\", 5 * 100000)\n",
        "print(\"Obtenido:\", contador)"
      ]
    },
    {
      "cell_type": "markdown",
      "metadata": {},
      "source": [
        "## 3. Simulación de `atomic` en `OpenMP`\n",
        "\n",
        "En OpenMP, `#pragma omp atomic` protege operaciones muy pequeñas (incrementos o restas, etc).\n",
        "\n",
        "En Python lo simulamos también con un lock, pero aplicado sólo al incremento."
      ]
    },
    {
      "cell_type": "code",
      "execution_count": 35,
      "metadata": {},
      "outputs": [
        {
          "name": "stdout",
          "output_type": "stream",
          "text": [
            "Esperado: 500000\n",
            "Obtenido: 500000\n"
          ]
        }
      ],
      "source": [
        "contador = 0\n",
        "lock = threading.Lock()\n",
        "\n",
        "def incrementar(n):\n",
        "    global contador\n",
        "    for _ in range(n):\n",
        "        with lock:\n",
        "            contador += 1\n",
        "\n",
        "hilos = []\n",
        "for _ in range(5):\n",
        "    t = threading.Thread(target=incrementar, args=(100000,))\n",
        "    hilos.append(t)\n",
        "    t.start()\n",
        "\n",
        "for t in hilos:\n",
        "    t.join()\n",
        "\n",
        "print(\"Esperado:\", 5 * 100000)\n",
        "print(\"Obtenido:\", contador)"
      ]
    },
    {
      "cell_type": "markdown",
      "metadata": {},
      "source": [
        "## 4. Prueba\n",
        "\n",
        "- Hacer que cada hilo lleve un **contador local**.\n",
        "- Al final, usa un `lock` para sumar el resultado local al contador global.\n",
        "\n",
        "Esto se parece a OpenMP cuando cada hilo calcula su parte y después se reduce el resultado total."
      ]
    },
    {
      "cell_type": "code",
      "execution_count": null,
      "metadata": {},
      "outputs": [
        {
          "name": "stdout",
          "output_type": "stream",
          "text": [
            "Esperado: 500000\n",
            "Obtenido: 500000\n"
          ]
        }
      ],
      "source": [
        "import threading\n",
        "\n",
        "contador = 0\n",
        "lock = threading.Lock()\n",
        "\n",
        "def incrementar(n):\n",
        "    global contador\n",
        "    local = 0  \n",
        "    for _ in range(n):\n",
        "        local += 1\n",
        "    \n",
        "    with lock:\n",
        "        contador += local\n",
        "\n",
        "hilos = []\n",
        "for _ in range(5):\n",
        "    t = threading.Thread(target=incrementar, args=(100000,))\n",
        "    hilos.append(t)\n",
        "    t.start()\n",
        "\n",
        "for t in hilos:\n",
        "    t.join()\n",
        "\n",
        "# Mostrar resultados\n",
        "print(\"Esperado:\", 5 * 100000)\n",
        "print(\"Obtenido:\", contador)\n"
      ]
    },
    {
      "cell_type": "markdown",
      "metadata": {},
      "source": [
        "## 5. Referencias a OpenMP\n",
        "\n",
        "En C con OpenMP, el equivalente sería:\n",
        "\n",
        "```c\n",
        "#pragma omp parallel for\n",
        "for (int i = 0; i < N; i++) {\n",
        "    #pragma omp critical\n",
        "    contador++;\n",
        "}\n",
        "//O usando atomic \n",
        "#pragma omp parallel for\n",
        "for (int i = 0; i < N; i++) {\n",
        "    #pragma omp atomic\n",
        "    contador++;\n",
        "}\n",
        "```\n",
        "\n",
        "La proxima semana vamos a seguir trabajandco con OpenMP y mas directivas."
      ]
    }
  ],
  "metadata": {
    "kernelspec": {
      "display_name": "Python 3",
      "language": "python",
      "name": "python3"
    },
    "language_info": {
      "codemirror_mode": {
        "name": "ipython",
        "version": 3
      },
      "file_extension": ".py",
      "mimetype": "text/x-python",
      "name": "python",
      "nbconvert_exporter": "python",
      "pygments_lexer": "ipython3",
      "version": "3.12.2"
    }
  },
  "nbformat": 4,
  "nbformat_minor": 2
}
